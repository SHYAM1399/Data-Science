{
 "cells": [
  {
   "cell_type": "markdown",
   "id": "91dd5cd2",
   "metadata": {},
   "source": [
    "## Importing required Libraries"
   ]
  },
  {
   "cell_type": "code",
   "execution_count": 1,
   "id": "1071e74f",
   "metadata": {},
   "outputs": [],
   "source": [
    "import pandas as pd\n",
    "import numpy as np\n",
    "from sklearn.model_selection import train_test_split\n",
    "from sklearn.preprocessing import StandardScaler\n",
    "import math,copy\n",
    "import matplotlib.pyplot as plt\n",
    "import warnings\n",
    "warnings.filterwarnings(\"ignore\")"
   ]
  },
  {
   "cell_type": "markdown",
   "id": "b9d1030e",
   "metadata": {},
   "source": [
    "## Reading and analyzing data"
   ]
  },
  {
   "cell_type": "code",
   "execution_count": 2,
   "id": "c02e9d04",
   "metadata": {},
   "outputs": [],
   "source": [
    "df=pd.read_csv(\"Ratings.tsv\",sep='\\t') # reading data file"
   ]
  },
  {
   "cell_type": "code",
   "execution_count": 3,
   "id": "e4d79b85",
   "metadata": {},
   "outputs": [
    {
     "data": {
      "text/html": [
       "<div>\n",
       "<style scoped>\n",
       "    .dataframe tbody tr th:only-of-type {\n",
       "        vertical-align: middle;\n",
       "    }\n",
       "\n",
       "    .dataframe tbody tr th {\n",
       "        vertical-align: top;\n",
       "    }\n",
       "\n",
       "    .dataframe thead th {\n",
       "        text-align: right;\n",
       "    }\n",
       "</style>\n",
       "<table border=\"1\" class=\"dataframe\">\n",
       "  <thead>\n",
       "    <tr style=\"text-align: right;\">\n",
       "      <th></th>\n",
       "      <th>restaurant</th>\n",
       "      <th>food</th>\n",
       "      <th>ambience</th>\n",
       "      <th>service</th>\n",
       "      <th>rating</th>\n",
       "    </tr>\n",
       "  </thead>\n",
       "  <tbody>\n",
       "    <tr>\n",
       "      <th>0</th>\n",
       "      <td>1</td>\n",
       "      <td>85</td>\n",
       "      <td>82</td>\n",
       "      <td>89</td>\n",
       "      <td>78</td>\n",
       "    </tr>\n",
       "    <tr>\n",
       "      <th>1</th>\n",
       "      <td>2</td>\n",
       "      <td>80</td>\n",
       "      <td>90</td>\n",
       "      <td>80</td>\n",
       "      <td>85</td>\n",
       "    </tr>\n",
       "    <tr>\n",
       "      <th>2</th>\n",
       "      <td>3</td>\n",
       "      <td>83</td>\n",
       "      <td>86</td>\n",
       "      <td>83</td>\n",
       "      <td>85</td>\n",
       "    </tr>\n",
       "    <tr>\n",
       "      <th>3</th>\n",
       "      <td>4</td>\n",
       "      <td>70</td>\n",
       "      <td>96</td>\n",
       "      <td>75</td>\n",
       "      <td>72</td>\n",
       "    </tr>\n",
       "    <tr>\n",
       "      <th>4</th>\n",
       "      <td>5</td>\n",
       "      <td>68</td>\n",
       "      <td>80</td>\n",
       "      <td>78</td>\n",
       "      <td>75</td>\n",
       "    </tr>\n",
       "    <tr>\n",
       "      <th>5</th>\n",
       "      <td>6</td>\n",
       "      <td>65</td>\n",
       "      <td>70</td>\n",
       "      <td>56</td>\n",
       "      <td>54</td>\n",
       "    </tr>\n",
       "    <tr>\n",
       "      <th>6</th>\n",
       "      <td>7</td>\n",
       "      <td>64</td>\n",
       "      <td>68</td>\n",
       "      <td>61</td>\n",
       "      <td>62</td>\n",
       "    </tr>\n",
       "    <tr>\n",
       "      <th>7</th>\n",
       "      <td>8</td>\n",
       "      <td>72</td>\n",
       "      <td>95</td>\n",
       "      <td>72</td>\n",
       "      <td>73</td>\n",
       "    </tr>\n",
       "    <tr>\n",
       "      <th>8</th>\n",
       "      <td>9</td>\n",
       "      <td>69</td>\n",
       "      <td>70</td>\n",
       "      <td>78</td>\n",
       "      <td>70</td>\n",
       "    </tr>\n",
       "    <tr>\n",
       "      <th>9</th>\n",
       "      <td>10</td>\n",
       "      <td>75</td>\n",
       "      <td>80</td>\n",
       "      <td>75</td>\n",
       "      <td>77</td>\n",
       "    </tr>\n",
       "    <tr>\n",
       "      <th>10</th>\n",
       "      <td>11</td>\n",
       "      <td>75</td>\n",
       "      <td>70</td>\n",
       "      <td>75</td>\n",
       "      <td>74</td>\n",
       "    </tr>\n",
       "    <tr>\n",
       "      <th>11</th>\n",
       "      <td>12</td>\n",
       "      <td>72</td>\n",
       "      <td>90</td>\n",
       "      <td>78</td>\n",
       "      <td>76</td>\n",
       "    </tr>\n",
       "    <tr>\n",
       "      <th>12</th>\n",
       "      <td>13</td>\n",
       "      <td>81</td>\n",
       "      <td>72</td>\n",
       "      <td>78</td>\n",
       "      <td>80</td>\n",
       "    </tr>\n",
       "    <tr>\n",
       "      <th>13</th>\n",
       "      <td>14</td>\n",
       "      <td>71</td>\n",
       "      <td>91</td>\n",
       "      <td>71</td>\n",
       "      <td>71</td>\n",
       "    </tr>\n",
       "    <tr>\n",
       "      <th>14</th>\n",
       "      <td>15</td>\n",
       "      <td>67</td>\n",
       "      <td>86</td>\n",
       "      <td>78</td>\n",
       "      <td>64</td>\n",
       "    </tr>\n",
       "  </tbody>\n",
       "</table>\n",
       "</div>"
      ],
      "text/plain": [
       "    restaurant  food  ambience  service  rating\n",
       "0            1    85        82       89      78\n",
       "1            2    80        90       80      85\n",
       "2            3    83        86       83      85\n",
       "3            4    70        96       75      72\n",
       "4            5    68        80       78      75\n",
       "5            6    65        70       56      54\n",
       "6            7    64        68       61      62\n",
       "7            8    72        95       72      73\n",
       "8            9    69        70       78      70\n",
       "9           10    75        80       75      77\n",
       "10          11    75        70       75      74\n",
       "11          12    72        90       78      76\n",
       "12          13    81        72       78      80\n",
       "13          14    71        91       71      71\n",
       "14          15    67        86       78      64"
      ]
     },
     "execution_count": 3,
     "metadata": {},
     "output_type": "execute_result"
    }
   ],
   "source": [
    "df # Printing data frame"
   ]
  },
  {
   "cell_type": "code",
   "execution_count": 4,
   "id": "49898321",
   "metadata": {},
   "outputs": [
    {
     "name": "stdout",
     "output_type": "stream",
     "text": [
      "<class 'pandas.core.frame.DataFrame'>\n",
      "RangeIndex: 15 entries, 0 to 14\n",
      "Data columns (total 5 columns):\n",
      " #   Column      Non-Null Count  Dtype\n",
      "---  ------      --------------  -----\n",
      " 0   restaurant  15 non-null     int64\n",
      " 1   food        15 non-null     int64\n",
      " 2   ambience    15 non-null     int64\n",
      " 3   service     15 non-null     int64\n",
      " 4   rating      15 non-null     int64\n",
      "dtypes: int64(5)\n",
      "memory usage: 728.0 bytes\n"
     ]
    }
   ],
   "source": [
    "df.info() # returns basic information of the data"
   ]
  },
  {
   "cell_type": "code",
   "execution_count": 5,
   "id": "133acd73",
   "metadata": {},
   "outputs": [
    {
     "data": {
      "text/html": [
       "<div>\n",
       "<style scoped>\n",
       "    .dataframe tbody tr th:only-of-type {\n",
       "        vertical-align: middle;\n",
       "    }\n",
       "\n",
       "    .dataframe tbody tr th {\n",
       "        vertical-align: top;\n",
       "    }\n",
       "\n",
       "    .dataframe thead th {\n",
       "        text-align: right;\n",
       "    }\n",
       "</style>\n",
       "<table border=\"1\" class=\"dataframe\">\n",
       "  <thead>\n",
       "    <tr style=\"text-align: right;\">\n",
       "      <th></th>\n",
       "      <th>food</th>\n",
       "      <th>ambience</th>\n",
       "      <th>service</th>\n",
       "      <th>rating</th>\n",
       "    </tr>\n",
       "    <tr>\n",
       "      <th>restaurant</th>\n",
       "      <th></th>\n",
       "      <th></th>\n",
       "      <th></th>\n",
       "      <th></th>\n",
       "    </tr>\n",
       "  </thead>\n",
       "  <tbody>\n",
       "    <tr>\n",
       "      <th>1</th>\n",
       "      <td>85</td>\n",
       "      <td>82</td>\n",
       "      <td>89</td>\n",
       "      <td>78</td>\n",
       "    </tr>\n",
       "    <tr>\n",
       "      <th>2</th>\n",
       "      <td>80</td>\n",
       "      <td>90</td>\n",
       "      <td>80</td>\n",
       "      <td>85</td>\n",
       "    </tr>\n",
       "    <tr>\n",
       "      <th>3</th>\n",
       "      <td>83</td>\n",
       "      <td>86</td>\n",
       "      <td>83</td>\n",
       "      <td>85</td>\n",
       "    </tr>\n",
       "    <tr>\n",
       "      <th>4</th>\n",
       "      <td>70</td>\n",
       "      <td>96</td>\n",
       "      <td>75</td>\n",
       "      <td>72</td>\n",
       "    </tr>\n",
       "    <tr>\n",
       "      <th>5</th>\n",
       "      <td>68</td>\n",
       "      <td>80</td>\n",
       "      <td>78</td>\n",
       "      <td>75</td>\n",
       "    </tr>\n",
       "    <tr>\n",
       "      <th>6</th>\n",
       "      <td>65</td>\n",
       "      <td>70</td>\n",
       "      <td>56</td>\n",
       "      <td>54</td>\n",
       "    </tr>\n",
       "    <tr>\n",
       "      <th>7</th>\n",
       "      <td>64</td>\n",
       "      <td>68</td>\n",
       "      <td>61</td>\n",
       "      <td>62</td>\n",
       "    </tr>\n",
       "    <tr>\n",
       "      <th>8</th>\n",
       "      <td>72</td>\n",
       "      <td>95</td>\n",
       "      <td>72</td>\n",
       "      <td>73</td>\n",
       "    </tr>\n",
       "    <tr>\n",
       "      <th>9</th>\n",
       "      <td>69</td>\n",
       "      <td>70</td>\n",
       "      <td>78</td>\n",
       "      <td>70</td>\n",
       "    </tr>\n",
       "    <tr>\n",
       "      <th>10</th>\n",
       "      <td>75</td>\n",
       "      <td>80</td>\n",
       "      <td>75</td>\n",
       "      <td>77</td>\n",
       "    </tr>\n",
       "    <tr>\n",
       "      <th>11</th>\n",
       "      <td>75</td>\n",
       "      <td>70</td>\n",
       "      <td>75</td>\n",
       "      <td>74</td>\n",
       "    </tr>\n",
       "    <tr>\n",
       "      <th>12</th>\n",
       "      <td>72</td>\n",
       "      <td>90</td>\n",
       "      <td>78</td>\n",
       "      <td>76</td>\n",
       "    </tr>\n",
       "    <tr>\n",
       "      <th>13</th>\n",
       "      <td>81</td>\n",
       "      <td>72</td>\n",
       "      <td>78</td>\n",
       "      <td>80</td>\n",
       "    </tr>\n",
       "    <tr>\n",
       "      <th>14</th>\n",
       "      <td>71</td>\n",
       "      <td>91</td>\n",
       "      <td>71</td>\n",
       "      <td>71</td>\n",
       "    </tr>\n",
       "    <tr>\n",
       "      <th>15</th>\n",
       "      <td>67</td>\n",
       "      <td>86</td>\n",
       "      <td>78</td>\n",
       "      <td>64</td>\n",
       "    </tr>\n",
       "  </tbody>\n",
       "</table>\n",
       "</div>"
      ],
      "text/plain": [
       "            food  ambience  service  rating\n",
       "restaurant                                 \n",
       "1             85        82       89      78\n",
       "2             80        90       80      85\n",
       "3             83        86       83      85\n",
       "4             70        96       75      72\n",
       "5             68        80       78      75\n",
       "6             65        70       56      54\n",
       "7             64        68       61      62\n",
       "8             72        95       72      73\n",
       "9             69        70       78      70\n",
       "10            75        80       75      77\n",
       "11            75        70       75      74\n",
       "12            72        90       78      76\n",
       "13            81        72       78      80\n",
       "14            71        91       71      71\n",
       "15            67        86       78      64"
      ]
     },
     "execution_count": 5,
     "metadata": {},
     "output_type": "execute_result"
    }
   ],
   "source": [
    "df.set_index('restaurant') # Setting restaurent column as index"
   ]
  },
  {
   "cell_type": "code",
   "execution_count": 6,
   "id": "4272c38b",
   "metadata": {},
   "outputs": [
    {
     "data": {
      "text/html": [
       "<div>\n",
       "<style scoped>\n",
       "    .dataframe tbody tr th:only-of-type {\n",
       "        vertical-align: middle;\n",
       "    }\n",
       "\n",
       "    .dataframe tbody tr th {\n",
       "        vertical-align: top;\n",
       "    }\n",
       "\n",
       "    .dataframe thead th {\n",
       "        text-align: right;\n",
       "    }\n",
       "</style>\n",
       "<table border=\"1\" class=\"dataframe\">\n",
       "  <thead>\n",
       "    <tr style=\"text-align: right;\">\n",
       "      <th></th>\n",
       "      <th>restaurant</th>\n",
       "      <th>food</th>\n",
       "      <th>ambience</th>\n",
       "      <th>service</th>\n",
       "      <th>rating</th>\n",
       "    </tr>\n",
       "  </thead>\n",
       "  <tbody>\n",
       "    <tr>\n",
       "      <th>count</th>\n",
       "      <td>15.000000</td>\n",
       "      <td>15.000000</td>\n",
       "      <td>15.000000</td>\n",
       "      <td>15.000000</td>\n",
       "      <td>15.000000</td>\n",
       "    </tr>\n",
       "    <tr>\n",
       "      <th>mean</th>\n",
       "      <td>8.000000</td>\n",
       "      <td>73.133333</td>\n",
       "      <td>81.733333</td>\n",
       "      <td>75.133333</td>\n",
       "      <td>73.066667</td>\n",
       "    </tr>\n",
       "    <tr>\n",
       "      <th>std</th>\n",
       "      <td>4.472136</td>\n",
       "      <td>6.555986</td>\n",
       "      <td>9.786774</td>\n",
       "      <td>8.069932</td>\n",
       "      <td>8.319226</td>\n",
       "    </tr>\n",
       "    <tr>\n",
       "      <th>min</th>\n",
       "      <td>1.000000</td>\n",
       "      <td>64.000000</td>\n",
       "      <td>68.000000</td>\n",
       "      <td>56.000000</td>\n",
       "      <td>54.000000</td>\n",
       "    </tr>\n",
       "    <tr>\n",
       "      <th>25%</th>\n",
       "      <td>4.500000</td>\n",
       "      <td>68.500000</td>\n",
       "      <td>71.000000</td>\n",
       "      <td>73.500000</td>\n",
       "      <td>70.500000</td>\n",
       "    </tr>\n",
       "    <tr>\n",
       "      <th>50%</th>\n",
       "      <td>8.000000</td>\n",
       "      <td>72.000000</td>\n",
       "      <td>82.000000</td>\n",
       "      <td>78.000000</td>\n",
       "      <td>74.000000</td>\n",
       "    </tr>\n",
       "    <tr>\n",
       "      <th>75%</th>\n",
       "      <td>11.500000</td>\n",
       "      <td>77.500000</td>\n",
       "      <td>90.000000</td>\n",
       "      <td>78.000000</td>\n",
       "      <td>77.500000</td>\n",
       "    </tr>\n",
       "    <tr>\n",
       "      <th>max</th>\n",
       "      <td>15.000000</td>\n",
       "      <td>85.000000</td>\n",
       "      <td>96.000000</td>\n",
       "      <td>89.000000</td>\n",
       "      <td>85.000000</td>\n",
       "    </tr>\n",
       "  </tbody>\n",
       "</table>\n",
       "</div>"
      ],
      "text/plain": [
       "       restaurant       food   ambience    service     rating\n",
       "count   15.000000  15.000000  15.000000  15.000000  15.000000\n",
       "mean     8.000000  73.133333  81.733333  75.133333  73.066667\n",
       "std      4.472136   6.555986   9.786774   8.069932   8.319226\n",
       "min      1.000000  64.000000  68.000000  56.000000  54.000000\n",
       "25%      4.500000  68.500000  71.000000  73.500000  70.500000\n",
       "50%      8.000000  72.000000  82.000000  78.000000  74.000000\n",
       "75%     11.500000  77.500000  90.000000  78.000000  77.500000\n",
       "max     15.000000  85.000000  96.000000  89.000000  85.000000"
      ]
     },
     "execution_count": 6,
     "metadata": {},
     "output_type": "execute_result"
    }
   ],
   "source": [
    "df.describe() # returns statistical parameters of the data"
   ]
  },
  {
   "cell_type": "code",
   "execution_count": 7,
   "id": "a7e6056f",
   "metadata": {},
   "outputs": [
    {
     "data": {
      "text/plain": [
       "restaurant    0\n",
       "food          0\n",
       "ambience      0\n",
       "service       0\n",
       "rating        0\n",
       "dtype: int64"
      ]
     },
     "execution_count": 7,
     "metadata": {},
     "output_type": "execute_result"
    }
   ],
   "source": [
    "df.isnull().sum() # Checking for null values"
   ]
  },
  {
   "cell_type": "code",
   "execution_count": 8,
   "id": "02fc6119",
   "metadata": {},
   "outputs": [
    {
     "data": {
      "text/html": [
       "<div>\n",
       "<style scoped>\n",
       "    .dataframe tbody tr th:only-of-type {\n",
       "        vertical-align: middle;\n",
       "    }\n",
       "\n",
       "    .dataframe tbody tr th {\n",
       "        vertical-align: top;\n",
       "    }\n",
       "\n",
       "    .dataframe thead th {\n",
       "        text-align: right;\n",
       "    }\n",
       "</style>\n",
       "<table border=\"1\" class=\"dataframe\">\n",
       "  <thead>\n",
       "    <tr style=\"text-align: right;\">\n",
       "      <th></th>\n",
       "      <th>restaurant</th>\n",
       "      <th>food</th>\n",
       "      <th>ambience</th>\n",
       "      <th>service</th>\n",
       "      <th>rating</th>\n",
       "    </tr>\n",
       "  </thead>\n",
       "  <tbody>\n",
       "    <tr>\n",
       "      <th>restaurant</th>\n",
       "      <td>1.000000</td>\n",
       "      <td>-0.331328</td>\n",
       "      <td>-0.110975</td>\n",
       "      <td>-0.193960</td>\n",
       "      <td>-0.268783</td>\n",
       "    </tr>\n",
       "    <tr>\n",
       "      <th>food</th>\n",
       "      <td>-0.331328</td>\n",
       "      <td>1.000000</td>\n",
       "      <td>0.182054</td>\n",
       "      <td>0.739492</td>\n",
       "      <td>0.839303</td>\n",
       "    </tr>\n",
       "    <tr>\n",
       "      <th>ambience</th>\n",
       "      <td>-0.110975</td>\n",
       "      <td>0.182054</td>\n",
       "      <td>1.000000</td>\n",
       "      <td>0.348678</td>\n",
       "      <td>0.372210</td>\n",
       "    </tr>\n",
       "    <tr>\n",
       "      <th>service</th>\n",
       "      <td>-0.193960</td>\n",
       "      <td>0.739492</td>\n",
       "      <td>0.348678</td>\n",
       "      <td>1.000000</td>\n",
       "      <td>0.796753</td>\n",
       "    </tr>\n",
       "    <tr>\n",
       "      <th>rating</th>\n",
       "      <td>-0.268783</td>\n",
       "      <td>0.839303</td>\n",
       "      <td>0.372210</td>\n",
       "      <td>0.796753</td>\n",
       "      <td>1.000000</td>\n",
       "    </tr>\n",
       "  </tbody>\n",
       "</table>\n",
       "</div>"
      ],
      "text/plain": [
       "            restaurant      food  ambience   service    rating\n",
       "restaurant    1.000000 -0.331328 -0.110975 -0.193960 -0.268783\n",
       "food         -0.331328  1.000000  0.182054  0.739492  0.839303\n",
       "ambience     -0.110975  0.182054  1.000000  0.348678  0.372210\n",
       "service      -0.193960  0.739492  0.348678  1.000000  0.796753\n",
       "rating       -0.268783  0.839303  0.372210  0.796753  1.000000"
      ]
     },
     "execution_count": 8,
     "metadata": {},
     "output_type": "execute_result"
    }
   ],
   "source": [
    "df.corr() # returns the correlation between features"
   ]
  },
  {
   "cell_type": "markdown",
   "id": "c19e574f",
   "metadata": {},
   "source": [
    "### Seperating features and target variable and scaling them"
   ]
  },
  {
   "cell_type": "code",
   "execution_count": 9,
   "id": "f539b9c7",
   "metadata": {},
   "outputs": [],
   "source": [
    "features = df[['food', 'ambience', 'service']].to_numpy() # Selecting input features and onverting data frame to numpy arrays for faster calculation\n",
    "sc = StandardScaler() # Intializing scaler\n",
    "X_fit = sc.fit_transform(features)  # Transforming Features\n",
    "X = np.c_[np.ones((len(X_fit),1)), X_fit] # Adding extra feature and filling with ones so that we can use it for intercept \n",
    "y = df['rating'] # choosing target variable\n",
    "y.to_numpy()# Converting data frame to numpy arrays for faster calculation\n",
    "y = y.values.reshape((15,1)) # Making Y size compatible for calculations\n",
    "X_train, X_test, y_train, y_test = train_test_split(X, y, test_size=0.2, random_state=10)"
   ]
  },
  {
   "cell_type": "markdown",
   "id": "d3d1e050",
   "metadata": {},
   "source": [
    "### Intializing parameters for gradient descent"
   ]
  },
  {
   "cell_type": "code",
   "execution_count": 10,
   "id": "9cbc105d",
   "metadata": {},
   "outputs": [
    {
     "name": "stdout",
     "output_type": "stream",
     "text": [
      "Intialized Parameter for food [-0.87343385]\n",
      "Intialized Parameter for ambience [1.21825754]\n",
      "Intialized Parameter for service [-0.27874727]\n",
      "Intialized Parameter for Intercept [2.64272885]\n"
     ]
    }
   ],
   "source": [
    "from numpy.random import randn\n",
    "iterations=100\n",
    "mean = 0; # Conisdering normal distribution with mean zero\n",
    "std = 1; # Conisdering normal distribution with standard deviation one\n",
    "theta = np.random.normal(mean,std,size=(X.shape[1], 1)) # intializing parameter values with mentioned condition for normal distribution\n",
    "print(\"Intialized Parameter for food\",theta[0])\n",
    "print(\"Intialized Parameter for ambience\",theta[1])\n",
    "print(\"Intialized Parameter for service\",theta[2])\n",
    "print(\"Intialized Parameter for Intercept\",theta[3])"
   ]
  },
  {
   "cell_type": "markdown",
   "id": "0052d16d",
   "metadata": {},
   "source": [
    " ## Gradient Descent"
   ]
  },
  {
   "cell_type": "code",
   "execution_count": 11,
   "id": "1b805741",
   "metadata": {},
   "outputs": [],
   "source": [
    "def cost(theta, X, y):\n",
    "    m = len(y)\n",
    "    y_pred = X.dot(theta)\n",
    "    residual = (1/(2*m))*np.sum(np.square(y_pred - y))\n",
    "    return residual\n",
    "\n",
    "def gradient_descent(X, y, theta, iterations):\n",
    "    num_of_features = len(y)\n",
    "    cost_list = np.zeros(iterations)\n",
    "    theta_list = np.zeros((iterations, 4))\n",
    "    \n",
    "    for i in range(iterations):\n",
    "        l_rate = 1/(i+1)  # Robbins Munro Algorithm\n",
    "        y_predict = np.dot(X, theta)\n",
    "        theta = theta - (1/num_of_features)*l_rate*(X.T.dot((y_predict - y)))\n",
    "        theta_list[i,:] = theta.T\n",
    "        cost_list[i] = cost(theta, X, y)\n",
    "    return theta, cost_list, theta_list"
   ]
  },
  {
   "cell_type": "markdown",
   "id": "a373ac0c",
   "metadata": {},
   "source": [
    "#### Finding four parameters of Gradient Descent"
   ]
  },
  {
   "cell_type": "code",
   "execution_count": 12,
   "id": "f5203448",
   "metadata": {},
   "outputs": [
    {
     "name": "stdout",
     "output_type": "stream",
     "text": [
      "Parameter for food [72.62863968]\n",
      "Parameter for ambience [3.29668669]\n",
      "Parameter for service [0.36927725]\n",
      "Parameter for Intercept [4.21687581]\n"
     ]
    }
   ],
   "source": [
    "optmized_theta, cost_list, theta_list  = gradient_descent(X_train, y_train, theta, iterations)\n",
    "print(\"Parameter for food\",optmized_theta[0])\n",
    "print(\"Parameter for ambience\",optmized_theta[1])\n",
    "print(\"Parameter for service\",optmized_theta[2])\n",
    "print(\"Parameter for Intercept\",optmized_theta[3])"
   ]
  },
  {
   "cell_type": "markdown",
   "id": "20f0e5c3",
   "metadata": {},
   "source": [
    "#### Plots of Performance vs Iterations"
   ]
  },
  {
   "cell_type": "code",
   "execution_count": 13,
   "id": "1afb6afb",
   "metadata": {},
   "outputs": [
    {
     "data": {
      "text/plain": [
       "Text(0.5, 1.0, 'Service vs. iterations')"
      ]
     },
     "execution_count": 13,
     "metadata": {},
     "output_type": "execute_result"
    },
    {
     "data": {
      "image/png": "[encoded data removed]",
      "text/plain": [
       "<Figure size 720x432 with 1 Axes>"
      ]
     },
     "metadata": {
      "needs_background": "light"
     },
     "output_type": "display_data"
    },
    {
     "data": {
      "image/png": "[encoded data removed]",
      "text/plain": [
       "<Figure size 720x432 with 3 Axes>"
      ]
     },
     "metadata": {
      "needs_background": "light"
     },
     "output_type": "display_data"
    }
   ],
   "source": [
    "#Plot 1: Cost/MSE vs Iterations \n",
    "plt.rcParams[\"figure.figsize\"] = (10,6)\n",
    "plt.plot(np.arange(1,iterations), cost_list[1:], color = 'blue')\n",
    "plt.title('Cost/MSE vs Iterations Graph')\n",
    "plt.xlabel('Iterations')\n",
    "plt.ylabel('Cost/MSE')\n",
    "    \n",
    "\n",
    "#Plot 2: Parameters vs Iterations\n",
    "fig, axs = plt.subplots(3, figsize = (10,6))\n",
    "fig.suptitle('Model Parameters vs. iterations')\n",
    "fig.tight_layout(pad=3)\n",
    "    \n",
    "axs[0].plot(np.arange(1,iterations+1), theta_list[:,1])\n",
    "axs[0].set_xlabel('iterations')\n",
    "axs[0].set_ylabel('Food Parameter')    \n",
    "axs[0].set_title('Food vs. iterations')\n",
    "    \n",
    "axs[1].plot(np.arange(1,iterations+1), theta_list[:,2])\n",
    "axs[1].set_xlabel('iterations')\n",
    "axs[1].set_ylabel('Ambience Parameter')\n",
    "axs[1].set_title('Ambience vs. iterations')\n",
    "    \n",
    "axs[2].plot(np.arange(1,iterations+1), theta_list[:,3])\n",
    "axs[2].set_xlabel('iterations')\n",
    "axs[2].set_ylabel('Service Parameter')\n",
    "axs[2].set_title('Service vs. iterations')"
   ]
  },
  {
   "cell_type": "markdown",
   "id": "49152866",
   "metadata": {},
   "source": [
    "## Stochastic Gradient Descent"
   ]
  },
  {
   "cell_type": "code",
   "execution_count": 14,
   "id": "8902d685",
   "metadata": {},
   "outputs": [],
   "source": [
    "def stochastic_gradient_descent(X, y, theta, iterations):\n",
    "    num_of_features = len(y)\n",
    "    cost_list = np.zeros(iterations)\n",
    "    theta_list = np.zeros((iterations, 4))\n",
    "    \n",
    "    for i in range(iterations):\n",
    "        residual = 0.0\n",
    "        l_rate = 1/(i+1)\n",
    "        for j in range(num_of_features):\n",
    "            rand_ind = np.random.randint(num_of_features)\n",
    "            X_i = X[rand_ind, :].reshape(1, X.shape[1])\n",
    "            y_i = y[rand_ind].reshape(1,1)\n",
    "            y_predict = np.dot(X_i, theta)\n",
    "            \n",
    "            theta = theta - (1/num_of_features)*l_rate*(X_i.T.dot((y_predict - y_i)))\n",
    "            residual += cost(theta, X_i, y_i)\n",
    "        \n",
    "        cost_list[i] = residual\n",
    "        theta_list[i,:] = theta.T\n",
    "    return theta, cost_list, theta_list"
   ]
  },
  {
   "cell_type": "markdown",
   "id": "9a4b390a",
   "metadata": {},
   "source": [
    "#### Finding four parameters of Stochastic Gradient Descent"
   ]
  },
  {
   "cell_type": "code",
   "execution_count": 15,
   "id": "ffe10f01",
   "metadata": {},
   "outputs": [
    {
     "name": "stdout",
     "output_type": "stream",
     "text": [
      "SGD: Parameter for food [72.02246267]\n",
      "SGD: Parameter for ambience [3.73218026]\n",
      "SGD: Parameter for service [-0.43878306]\n",
      "SGD: Parameter for Intercept [4.10207503]\n"
     ]
    }
   ],
   "source": [
    "theta_sgd,cost_sgd, theta_sgd_list  = stochastic_gradient_descent(X_train, y_train, theta,iterations )\n",
    "print(\"SGD: Parameter for food\",theta_sgd[0])\n",
    "print(\"SGD: Parameter for ambience\",theta_sgd[1])\n",
    "print(\"SGD: Parameter for service\",theta_sgd[2])\n",
    "print(\"SGD: Parameter for Intercept\",theta_sgd[3])"
   ]
  },
  {
   "cell_type": "markdown",
   "id": "d7e46a0a",
   "metadata": {},
   "source": [
    "### Plots of Performance vs Iteration"
   ]
  },
  {
   "cell_type": "code",
   "execution_count": 16,
   "id": "89f9bf81",
   "metadata": {},
   "outputs": [
    {
     "data": {
      "text/plain": [
       "Text(0.5, 1.0, 'Service vs. iterations')"
      ]
     },
     "execution_count": 16,
     "metadata": {},
     "output_type": "execute_result"
    },
    {
     "data": {
      "image/png": "[encoded data removed]",
      "text/plain": [
       "<Figure size 720x432 with 1 Axes>"
      ]
     },
     "metadata": {
      "needs_background": "light"
     },
     "output_type": "display_data"
    },
    {
     "data": {
      "image/png": "[encoded data removed]",
      "text/plain": [
       "<Figure size 720x432 with 3 Axes>"
      ]
     },
     "metadata": {
      "needs_background": "light"
     },
     "output_type": "display_data"
    }
   ],
   "source": [
    "#Plot 1: Cost/MSE vs Iterations \n",
    "plt.rcParams[\"figure.figsize\"] = (10,6)\n",
    "plt.plot(np.arange(1,iterations), cost_sgd[1:], color = 'blue')\n",
    "plt.title('Cost/MSE vs Iterations Graph')\n",
    "plt.xlabel('Iterations')\n",
    "plt.ylabel('Cost/MSE')\n",
    "    \n",
    "\n",
    "#Plot 2: Parameters vs Iterations\n",
    "fig, axs = plt.subplots(3, figsize = (10,6))\n",
    "fig.suptitle('Model Parameters vs. iterations')\n",
    "fig.tight_layout(pad=3)\n",
    "    \n",
    "axs[0].plot(np.arange(1,iterations+1), theta_sgd_list[:,1])\n",
    "axs[0].set_xlabel('iterations')\n",
    "axs[0].set_ylabel('Food Parameter')    \n",
    "axs[0].set_title('Food vs. iterations')\n",
    "    \n",
    "axs[1].plot(np.arange(1,iterations+1), theta_sgd_list[:,2])\n",
    "axs[1].set_xlabel('iterations')\n",
    "axs[1].set_ylabel('Ambience Parameter')\n",
    "axs[1].set_title('Ambience vs. iterations')\n",
    "    \n",
    "axs[2].plot(np.arange(1,iterations+1), theta_sgd_list[:,3])\n",
    "axs[2].set_xlabel('iterations')\n",
    "axs[2].set_ylabel('Service Parameter')\n",
    "axs[2].set_title('Service vs. iterations')"
   ]
  },
  {
   "cell_type": "markdown",
   "id": "04115660",
   "metadata": {},
   "source": [
    "Changing iterations to 1000 times and running the stochastic model."
   ]
  },
  {
   "cell_type": "code",
   "execution_count": 17,
   "id": "9111014f",
   "metadata": {},
   "outputs": [
    {
     "name": "stdout",
     "output_type": "stream",
     "text": [
      "SGD: Parameter for food [72.92234793]\n",
      "SGD: Parameter for ambience [3.76382493]\n",
      "SGD: Parameter for service [1.22201704]\n",
      "SGD: Parameter for Intercept [3.35665814]\n"
     ]
    }
   ],
   "source": [
    "iterations = 1000 # Running the code for 1000 times\n",
    "theta_random,cost_random, theta_random_list  = stochastic_gradient_descent(X_train, y_train, theta,iterations)\n",
    "print(\"SGD: Parameter for food\",theta_random[0])\n",
    "print(\"SGD: Parameter for ambience\",theta_random[1])\n",
    "print(\"SGD: Parameter for service\",theta_random[2])\n",
    "print(\"SGD: Parameter for Intercept\",theta_random[3])"
   ]
  },
  {
   "cell_type": "markdown",
   "id": "b42c283a",
   "metadata": {},
   "source": [
    "### Plots : Performance vs Iterations"
   ]
  },
  {
   "cell_type": "code",
   "execution_count": 18,
   "id": "9e68f983",
   "metadata": {},
   "outputs": [
    {
     "data": {
      "text/plain": [
       "Text(0.5, 1.0, 'Service vs. iterations')"
      ]
     },
     "execution_count": 18,
     "metadata": {},
     "output_type": "execute_result"
    },
    {
     "data": {
      "image/png": "[encoded data removed]",
      "text/plain": [
       "<Figure size 720x432 with 1 Axes>"
      ]
     },
     "metadata": {
      "needs_background": "light"
     },
     "output_type": "display_data"
    },
    {
     "data": {
      "image/png": "[encoded data removed]",
      "text/plain": [
       "<Figure size 720x432 with 3 Axes>"
      ]
     },
     "metadata": {
      "needs_background": "light"
     },
     "output_type": "display_data"
    }
   ],
   "source": [
    "#Plot 1: Cost/MSE vs Iterations \n",
    "plt.rcParams[\"figure.figsize\"] = (10,6)\n",
    "plt.plot(np.arange(1,iterations), cost_random[1:], color = 'blue')\n",
    "plt.title('Cost/MSE vs Iterations Graph')\n",
    "plt.xlabel('Iterations')\n",
    "plt.ylabel('Cost/MSE')\n",
    "    \n",
    "#Plot 2: Parameters vs Iterations\n",
    "fig, axs = plt.subplots(3, figsize = (10,6))\n",
    "fig.suptitle('Model Parameters vs. iterations')\n",
    "fig.tight_layout(pad=3)\n",
    "    \n",
    "axs[0].plot(np.arange(1,iterations+1), theta_random_list[:,1])\n",
    "axs[0].set_xlabel('iterations')\n",
    "axs[0].set_ylabel('Food Parameter')    \n",
    "axs[0].set_title('Food vs. iterations')\n",
    "    \n",
    "axs[1].plot(np.arange(1,iterations+1), theta_random_list[:,2])\n",
    "axs[1].set_xlabel('iterations')\n",
    "axs[1].set_ylabel('Ambience Parameter')\n",
    "axs[1].set_title('Ambience vs. iterations')\n",
    "    \n",
    "axs[2].plot(np.arange(1,iterations+1), theta_random_list[:,3])\n",
    "axs[2].set_xlabel('iterations')\n",
    "axs[2].set_ylabel('Service Parameter')\n",
    "axs[2].set_title('Service vs. iterations')"
   ]
  },
  {
   "cell_type": "markdown",
   "id": "17c8aeb7",
   "metadata": {},
   "source": [
    "### Means of 4 Parameters"
   ]
  },
  {
   "cell_type": "code",
   "execution_count": 19,
   "id": "271f1974",
   "metadata": {},
   "outputs": [
    {
     "name": "stdout",
     "output_type": "stream",
     "text": [
      "Mean for paramter of food variable is: 72.68101331096693\n",
      "Mean for paramter of Ambience variable is: 3.6391290664918596\n",
      "Mean for paramter of service variable is: 0.9754844331584486\n",
      "Mean for paramter of intercept is: 3.623980088127825\n"
     ]
    }
   ],
   "source": [
    "theta_Food = theta_random_list[:,0]\n",
    "theta_Ambience = theta_random_list[:,1]\n",
    "theta_Service = theta_random_list[:,2]\n",
    "theta_intercept = theta_random_list[:,3]\n",
    "\n",
    "theta_Food_mean = np.mean(theta_Food)\n",
    "print(\"Mean for paramter of food variable is:\",theta_Food_mean)\n",
    "theta_Ambience_mean = np.mean(theta_Ambience)\n",
    "print(\"Mean for paramter of Ambience variable is:\",theta_Ambience_mean)\n",
    "theta_Service_mean = np.mean(theta_Service)\n",
    "print(\"Mean for paramter of service variable is:\",theta_Service_mean)\n",
    "theta_intercept_mean = np.mean(theta_intercept)\n",
    "print(\"Mean for paramter of intercept is:\",theta_intercept_mean)"
   ]
  },
  {
   "cell_type": "markdown",
   "id": "044fb442",
   "metadata": {},
   "source": [
    "### Parameter values using statsmodels module"
   ]
  },
  {
   "cell_type": "code",
   "execution_count": 20,
   "id": "e8d4477a",
   "metadata": {},
   "outputs": [
    {
     "data": {
      "text/plain": [
       "array([73.03813963,  4.2810691 ,  1.67667932,  2.57638014])"
      ]
     },
     "execution_count": 20,
     "metadata": {},
     "output_type": "execute_result"
    }
   ],
   "source": [
    "import statsmodels.api as sm # Importing statsmodels module\n",
    "model = sm.OLS(y_train, sm.add_constant(X_train)).fit()\n",
    "model_params = model.params\n",
    "model_params"
   ]
  },
  {
   "cell_type": "raw",
   "id": "0ed9a10a",
   "metadata": {},
   "source": [
    "When comparing the mean of parameters using stochastic is very near to optimal values produced by statsmodels module. So we can conclude that our model is doing better and we are able to find optimal values for parameters using gradient descent"
   ]
  }
 ],
 "metadata": {
  "kernelspec": {
   "display_name": "Python 3 (ipykernel)",
   "language": "python",
   "name": "python3"
  },
  "language_info": {
   "codemirror_mode": {
    "name": "ipython",
    "version": 3
   },
   "file_extension": ".py",
   "mimetype": "text/x-python",
   "name": "python",
   "nbconvert_exporter": "python",
   "pygments_lexer": "ipython3",
   "version": "3.9.13"
  }
 },
 "nbformat": 4,
 "nbformat_minor": 5
}
